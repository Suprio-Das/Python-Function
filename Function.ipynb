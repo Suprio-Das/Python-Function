{
  "nbformat": 4,
  "nbformat_minor": 0,
  "metadata": {
    "colab": {
      "provenance": []
    },
    "kernelspec": {
      "name": "python3",
      "display_name": "Python 3"
    },
    "language_info": {
      "name": "python"
    }
  },
  "cells": [
    {
      "cell_type": "markdown",
      "source": [
        "# Function Declaration\n",
        "This is a static function."
      ],
      "metadata": {
        "id": "f0oRpb-dXwiN"
      }
    },
    {
      "cell_type": "code",
      "execution_count": null,
      "metadata": {
        "colab": {
          "base_uri": "https://localhost:8080/"
        },
        "id": "MUbipb8wXiGT",
        "outputId": "4fa1a0c8-1351-4947-d0b4-f4a5db1bad59"
      },
      "outputs": [
        {
          "output_type": "stream",
          "name": "stdout",
          "text": [
            "Hello World!!!\n"
          ]
        }
      ],
      "source": [
        "def greetings():\n",
        "  print(\"Hello World!!!\")\n",
        "\n",
        "greetings()"
      ]
    },
    {
      "cell_type": "markdown",
      "source": [
        "# Dynamic Function\n",
        "This is way we can create a dynamic function."
      ],
      "metadata": {
        "id": "9PJHJsvHX63z"
      }
    },
    {
      "cell_type": "code",
      "source": [
        "def my_print(message):\n",
        "  print(message)\n",
        "\n",
        "my_print(\"Hi, this is dynamic function\")"
      ],
      "metadata": {
        "colab": {
          "base_uri": "https://localhost:8080/"
        },
        "id": "4-LpcfvKYBu5",
        "outputId": "11450022-79e6-4f49-96ef-6dac4fd37103"
      },
      "execution_count": null,
      "outputs": [
        {
          "output_type": "stream",
          "name": "stdout",
          "text": [
            "Hi, this is dynamic function\n"
          ]
        }
      ]
    },
    {
      "cell_type": "markdown",
      "source": [
        "# Re-building the range function of python"
      ],
      "metadata": {
        "id": "kZ8hXqQ0YTgd"
      }
    },
    {
      "cell_type": "code",
      "source": [
        "def my_range(start, stop, step):\n",
        "  # for i in range(start, stop, step):\n",
        "  #   print(i)\n",
        "  while start < stop:\n",
        "    print(start)\n",
        "    start = start + step\n",
        "\n",
        "my_range(1, 10, 1)"
      ],
      "metadata": {
        "id": "UOMfdHzmYYU0"
      },
      "execution_count": null,
      "outputs": []
    },
    {
      "cell_type": "markdown",
      "source": [
        "# Default value and required value in parameter"
      ],
      "metadata": {
        "id": "siv0MgBNazih"
      }
    },
    {
      "cell_type": "code",
      "source": [
        "def my_range( stop, start=0, step=1):\n",
        "  # for i in range(start, stop, step):\n",
        "  #   print(i)\n",
        "  while start < stop:\n",
        "    print(start)\n",
        "    start = start + step\n",
        "\n",
        "my_range(10, 1, 1)"
      ],
      "metadata": {
        "colab": {
          "base_uri": "https://localhost:8080/"
        },
        "id": "AEIBHHJxbDXJ",
        "outputId": "b8a3c762-1dae-4d43-8ecc-6ced2f551502"
      },
      "execution_count": null,
      "outputs": [
        {
          "output_type": "stream",
          "name": "stdout",
          "text": [
            "1\n",
            "2\n",
            "3\n",
            "4\n",
            "5\n",
            "6\n",
            "7\n",
            "8\n",
            "9\n"
          ]
        }
      ]
    },
    {
      "cell_type": "code",
      "source": [
        "def calculator(num1, num2, operation):\n",
        "  if operation == \"Add\":\n",
        "    print(num1 + num2)\n",
        "  elif operation == \"Sub\":\n",
        "    print(num1 - num2)\n",
        "\n",
        "calculator(10, 5, \"Add\")"
      ],
      "metadata": {
        "colab": {
          "base_uri": "https://localhost:8080/"
        },
        "id": "dN0TmoIQdI12",
        "outputId": "5022eda2-4fd6-4a06-ecd3-26f198f6685a"
      },
      "execution_count": null,
      "outputs": [
        {
          "output_type": "stream",
          "name": "stdout",
          "text": [
            "15\n"
          ]
        }
      ]
    },
    {
      "cell_type": "markdown",
      "source": [
        "# To get a value from the function using return keyword and Declaring a variable as global"
      ],
      "metadata": {
        "id": "p9V8coQifGD5"
      }
    },
    {
      "cell_type": "code",
      "source": [
        "def calculator(num1, num2, operation):\n",
        "  global cal\n",
        "  if operation == \"Add\":\n",
        "    cal = num1 + num2\n",
        "  elif operation == \"Sub\":\n",
        "    cal = num1 - num2\n",
        "  return cal\n",
        "\n",
        "result = calculator(10, 5, \"Add\")\n",
        "print(result, cal)"
      ],
      "metadata": {
        "colab": {
          "base_uri": "https://localhost:8080/"
        },
        "id": "zAyA84sufKxc",
        "outputId": "420ebc70-6347-4082-ed55-cf485acbd110"
      },
      "execution_count": null,
      "outputs": [
        {
          "output_type": "stream",
          "name": "stdout",
          "text": [
            "15 15\n"
          ]
        }
      ]
    },
    {
      "cell_type": "code",
      "source": [
        "def multi_number(*numbers):\n",
        "  total = 0\n",
        "  for number in numbers:\n",
        "    total = total + number\n",
        "  return total\n",
        "\n",
        "result = multi_number(1, 2, 3, 4, 5)\n",
        "print(result)"
      ],
      "metadata": {
        "colab": {
          "base_uri": "https://localhost:8080/"
        },
        "id": "P-L2qUsOjSRc",
        "outputId": "9dab71cb-a840-47f0-ce31-cee3a4882e72"
      },
      "execution_count": null,
      "outputs": [
        {
          "output_type": "stream",
          "name": "stdout",
          "text": [
            "15\n"
          ]
        }
      ]
    },
    {
      "cell_type": "markdown",
      "source": [
        "# Exercises\n",
        "1. Multiple return from a function\n",
        "2. A calculator that takes multiple numbers and can do all arithmetic operations. If the result is negative, it will convert into zero.\n"
      ],
      "metadata": {
        "id": "MdDuqY2bp4Ee"
      }
    },
    {
      "cell_type": "code",
      "source": [
        "# Multiple return\n",
        "def full_name():\n",
        "  fname = \"Suprio\"\n",
        "  lname = \"Das\"\n",
        "  return fname, lname\n",
        "\n",
        "first_name, last_name = full_name()\n",
        "\n",
        "print(first_name, last_name)\n",
        "\n",
        "# Calculator\n",
        "\n",
        "def calculator(*numbers, operation):\n",
        "  result_add_sub = 0\n",
        "  result_mul_div = 1\n",
        "  for number in numbers:\n",
        "    if operation == \"Add\" or operation == \"Sub\":\n",
        "      if operation == \"Add\":\n",
        "        result_add_sub = result_add_sub + number\n",
        "      elif operation == \"Sub\":\n",
        "        result_add_sub = result_add_sub - number\n",
        "    elif operation == \"Mul\" or operation == \"Div\":\n",
        "      if operation == \"Mul\":\n",
        "        result_mul_div = result_mul_div * number\n",
        "      elif operation == \"Div\":\n",
        "        result_mul_div = result_mul_div / number\n",
        "  return result_add_sub, result_mul_div\n",
        "\n",
        "result_add_sub, result_mul_div = calculator(1, 2, 3, 4, 5, operation=\"Add\")\n",
        "print(result_add_sub, result_mul_div)"
      ],
      "metadata": {
        "colab": {
          "base_uri": "https://localhost:8080/"
        },
        "id": "2m_Oqoe3qG1h",
        "outputId": "b02d4b34-d4df-4899-8b30-d9e144ac950b"
      },
      "execution_count": null,
      "outputs": [
        {
          "output_type": "stream",
          "name": "stdout",
          "text": [
            "Suprio Das\n",
            "15 1\n"
          ]
        }
      ]
    },
    {
      "cell_type": "code",
      "source": [
        "def sort_ascending(unsorted_list):\n",
        "  for i in range(len(unsorted_list)):\n",
        "    for j in range(i + 1, len(unsorted_list)):\n",
        "      if unsorted_list[i] > unsorted_list[j]:\n",
        "        temp = unsorted_list[i]\n",
        "        unsorted_list[i] = unsorted_list[j]\n",
        "        unsorted_list[j] = temp\n",
        "  # For clarity I just assigned the list to appropriate list name\n",
        "  sorted_list = unsorted_list\n",
        "  return sorted_list\n",
        "\n",
        "unsorted_list = [1, 5, 2, 9, 3, 22, 13]\n",
        "sorted_list = sort_ascending(unsorted_list)\n",
        "print(sorted_list)"
      ],
      "metadata": {
        "colab": {
          "base_uri": "https://localhost:8080/"
        },
        "id": "M3sP7GFKaLTs",
        "outputId": "5344dcb4-fd5d-4793-954e-a9fe32fae4ee"
      },
      "execution_count": null,
      "outputs": [
        {
          "output_type": "stream",
          "name": "stdout",
          "text": [
            "[1, 2, 3, 5, 9, 13, 22]\n"
          ]
        }
      ]
    },
    {
      "cell_type": "code",
      "source": [
        "def sort_ascending(unsorted_list):\n",
        "  sorted_list = sorted(unsorted_list)\n",
        "  return sorted_list\n",
        "\n",
        "unsorted_list = [1, 5, 2, 9, 3, 22, 13]\n",
        "sorted_list = sort_ascending(unsorted_list)\n",
        "print(sorted_list)"
      ],
      "metadata": {
        "colab": {
          "base_uri": "https://localhost:8080/"
        },
        "id": "9YHGs9wVeIY4",
        "outputId": "9532336d-6de5-447e-fd88-a5b9f3c2ed09"
      },
      "execution_count": null,
      "outputs": [
        {
          "output_type": "stream",
          "name": "stdout",
          "text": [
            "[1, 2, 3, 5, 9, 13, 22]\n"
          ]
        }
      ]
    }
  ]
}