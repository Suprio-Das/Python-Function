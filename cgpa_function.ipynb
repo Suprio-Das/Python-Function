{
  "cells": [
    {
      "cell_type": "code",
      "execution_count": 1,
      "metadata": {
        "colab": {
          "base_uri": "https://localhost:8080/"
        },
        "id": "w0qTyQ-yV_io",
        "outputId": "28a0ef61-892d-4d53-d271-baedf2870a36"
      },
      "outputs": [
        {
          "name": "stdout",
          "output_type": "stream",
          "text": [
            "Your CGPA is: 3.73\n"
          ]
        }
      ],
      "source": [
        "def calculate_cgpa(grades, credit_hours):\n",
        "    total_quality_points = sum(grade * credit for grade, credit in zip(grades, credit_hours))\n",
        "    total_credit_hours = sum(credit_hours)\n",
        "\n",
        "    if total_credit_hours == 0:\n",
        "        raise ValueError(\"Total credit hours cannot be zero.\")\n",
        "    \n",
        "    cgpa = total_quality_points / total_credit_hours\n",
        "    return round(cgpa, 2)\n",
        "\n",
        "def main():\n",
        "    print(\"Welcome to the CGPA Calculator!\")\n",
        "    print(\"Please enter the grades and credit hours for your courses.\")\n",
        "    \n",
        "    grades = []\n",
        "    credit_hours = []\n",
        "    \n",
        "    while True:\n",
        "        try:\n",
        "            grade = float(input(\"Enter the grade (GPA) for a course (or type 'done' to finish): \"))\n",
        "            if grade < 0 or grade > 4:\n",
        "                print(\"Grade must be between 0 and 4. Please try again.\")\n",
        "                continue\n",
        "            credit = int(input(\"Enter the credit hours for this course: \"))\n",
        "            if credit <= 0:\n",
        "                print(\"Credit hours must be a positive integer. Please try again.\")\n",
        "                continue\n",
        "            grades.append(grade)\n",
        "            credit_hours.append(credit)\n",
        "        except ValueError:\n",
        "            done = input(\"Are you finished entering courses? Type 'yes' to calculate CGPA or 'no' to continue: \").strip().lower()\n",
        "            if done == 'yes':\n",
        "                break\n",
        "            elif done == 'no':\n",
        "                continue\n",
        "            else:\n",
        "                print(\"Invalid input. Please type 'yes' or 'no'.\")\n",
        "    \n",
        "    try:\n",
        "        cgpa = calculate_cgpa(grades, credit_hours)\n",
        "        print(f\"\\nYour CGPA is: {cgpa}\")\n",
        "    except ValueError as e:\n",
        "        print(f\"Error: {e}\")\n",
        "\n",
        "if __name__ == \"__main__\":\n",
        "    main()\n"
      ]
    }
  ],
  "metadata": {
    "colab": {
      "provenance": []
    },
    "kernelspec": {
      "display_name": "Python 3",
      "name": "python3"
    },
    "language_info": {
      "name": "python"
    }
  },
  "nbformat": 4,
  "nbformat_minor": 0
}
