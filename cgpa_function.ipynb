{
  "nbformat": 4,
  "nbformat_minor": 0,
  "metadata": {
    "colab": {
      "provenance": []
    },
    "kernelspec": {
      "name": "python3",
      "display_name": "Python 3"
    },
    "language_info": {
      "name": "python"
    }
  },
  "cells": [
    {
      "cell_type": "code",
      "execution_count": 1,
      "metadata": {
        "colab": {
          "base_uri": "https://localhost:8080/"
        },
        "id": "w0qTyQ-yV_io",
        "outputId": "28a0ef61-892d-4d53-d271-baedf2870a36"
      },
      "outputs": [
        {
          "output_type": "stream",
          "name": "stdout",
          "text": [
            "Your CGPA is: 3.73\n"
          ]
        }
      ],
      "source": [
        "def calculate_cgpa(grades, credit_hours):\n",
        "    if len(grades) != len(credit_hours):\n",
        "        raise ValueError(\"Grades and credit hours lists must have the same length.\")\n",
        "\n",
        "    total_quality_points = sum(grade * credit for grade, credit in zip(grades, credit_hours))\n",
        "    total_credit_hours = sum(credit_hours)\n",
        "\n",
        "    if total_credit_hours == 0:\n",
        "        raise ValueError(\"Total credit hours cannot be zero.\")\n",
        "\n",
        "    cgpa = total_quality_points / total_credit_hours\n",
        "    return round(cgpa, 2)\n",
        "\n",
        "# Example usage:\n",
        "grades = [3.5, 3.7, 3.8, 4.0]\n",
        "credit_hours = [3, 4, 3, 2]\n",
        "\n",
        "cgpa = calculate_cgpa(grades, credit_hours)\n",
        "print(f\"Your CGPA is: {cgpa}\")\n"
      ]
    }
  ]
}