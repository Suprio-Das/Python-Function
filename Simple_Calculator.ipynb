{
  "nbformat": 4,
  "nbformat_minor": 0,
  "metadata": {
    "colab": {
      "provenance": []
    },
    "kernelspec": {
      "name": "python3",
      "display_name": "Python 3"
    },
    "language_info": {
      "name": "python"
    }
  },
  "cells": [
    {
      "cell_type": "code",
      "execution_count": 6,
      "metadata": {
        "colab": {
          "base_uri": "https://localhost:8080/"
        },
        "id": "99AZLrlTtkNw",
        "outputId": "1b10fa8e-c157-4eba-a26e-40897900c041"
      },
      "outputs": [
        {
          "output_type": "stream",
          "name": "stdout",
          "text": [
            "15\n"
          ]
        }
      ],
      "source": [
        "def calculator(*numbers, operation):\n",
        "  if operation == \"Add\":\n",
        "      total = 0\n",
        "      for i in range(0, len(numbers)):\n",
        "          total += numbers[i]\n",
        "      return total\n",
        "\n",
        "  elif operation == \"Sub\":\n",
        "       sub = numbers[0]\n",
        "       print(sub)\n",
        "       for i in range(1, len(numbers)):\n",
        "           sub = sub - numbers[i]\n",
        "           print(sub)\n",
        "           if(sub < 0):\n",
        "               sub = 0\n",
        "       return sub\n",
        "  elif operation == \"Mul\":\n",
        "       mul = 1\n",
        "       for i in numbers:\n",
        "           mul *= i\n",
        "       return mul\n",
        "  elif operation == \"Div\":\n",
        "       div = numbers[0]\n",
        "       for i in range(1, len(numbers)):\n",
        "           div /= numbers[i]\n",
        "       return div\n",
        "\n",
        "\n",
        "\n",
        "number = calculator(10, 5, operation = \"Add\")\n",
        "print(number)"
      ]
    }
  ]
}